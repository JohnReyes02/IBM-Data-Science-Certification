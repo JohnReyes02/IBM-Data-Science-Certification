{
 "cells": [
  {
   "cell_type": "markdown",
   "metadata": {},
   "source": [
    "## Cómo los macrodatos impulsan la transformación digital\n",
    "\n",
    "- las grandes empresas analizan los datos para prestar mejor sus servicios.\n",
    "- Los rockets de Huston mejoraron su efectividad en cestas por el análisis de los lugares donde más acertaban y rompieron records de lanzamientos de tres puntos.\n",
    "- La transformación digital afectará la cultura organizacional de las empresas.\n",
    "- La transformación digital es la forma de tener éxito ahora y en el futuro."
   ]
  }
 ],
 "metadata": {
  "language_info": {
   "name": "python"
  }
 },
 "nbformat": 4,
 "nbformat_minor": 2
}
