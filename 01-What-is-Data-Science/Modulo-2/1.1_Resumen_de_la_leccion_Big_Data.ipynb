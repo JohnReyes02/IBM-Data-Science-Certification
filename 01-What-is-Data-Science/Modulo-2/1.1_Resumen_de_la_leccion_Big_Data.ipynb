{
 "cells": [
  {
   "cell_type": "markdown",
   "metadata": {},
   "source": [
    "## Resumen de la lección: Big Data y minería de datos\n",
    "\n",
    "En la lección \"Big Data y minería de datos\", adéntrese en el mundo de la transformación digital impulsada por Big Data. Explore el papel de la computación en nube, los conceptos fundamentales de Big Data, herramientas como Hadoop y Spark, y obtenga información sobre las técnicas de minería de datos para una toma de decisiones informada.\n",
    "\n",
    "| **Nombre y tipo de archivo**                                                   \t| **Descripción**                                                                                                           \t|\n",
    "|--------------------------------------------------------------------------------\t|---------------------------------------------------------------------------------------------------------------------------\t|\n",
    "| \"Video\" Cómo impulsan los macrodatos la  transformación digital                \t| Explore el impacto de Big Data en la transformación digital.                                                              \t|\n",
    "| \"Video\" Intruducción a la nube                                                 \t| Conozca los fundamentos de la computación en la nube.                                                                     \t|\n",
    "| \"Video\" La nube para la ciencia de datos                                       \t| Aprenda cómo la nube es relevanta en el campo de la ciencia de datos.                                                     \t|\n",
    "| \"Video\" Fundamentos de Big Data                                                \t| Comprenda los conceptos clave de Big Data.                                                                                \t|\n",
    "| \"Video\" Científicos de datos en la  Universidad de Nueva York                  \t| Descubra el trabajo de los científicos de datos en la Universidad de Nueva York.                                          \t|\n",
    "| \"Video\" ¿Qué es Hadoop?                                                        \t| Comprenda la importanci de Hadoop para el procesamiento  de Big Data.                                                     \t|\n",
    "| \"Herramientas de procesamiento de Big  DataÑ Hadoop, HDFS, Hive y Spark\" video \t| Sumérjase en las herramientas utilizadas para el  procesamiento de Big Data.                                              \t|\n",
    "| \"Lectura\" Minería de datos                                                     \t| Lea un fragmento sobre minería de datos y explore los  principios y conceptos de la minería de datos.                     \t|\n",
    "| Cuestionario de Práctica                                                       \t| Realice un cuestionario de práctica para evaluar hasta qué  punto ha comprendido el material presentado en esta  lección. \t|\n",
    "| Glosario                                                                       \t| utilice este glosario de términos para repasar la terminología presentada en esta lección.                                \t|\n",
    "| Cuestionario con calificación                                                  \t| Ponga a prueba sus conocimientos de esta lección realizando  el cuestionario con calificación.                            \t|"
   ]
  }
 ],
 "metadata": {
  "language_info": {
   "name": "python"
  }
 },
 "nbformat": 4,
 "nbformat_minor": 2
}
